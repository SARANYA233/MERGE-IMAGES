{
 "cells": [
  {
   "cell_type": "code",
   "execution_count": 1,
   "metadata": {},
   "outputs": [],
   "source": [
    "import cv2\n",
    "import numpy as np"
   ]
  },
  {
   "cell_type": "code",
   "execution_count": 2,
   "metadata": {},
   "outputs": [],
   "source": [
    "# loads an image from the specified file\n",
    "\n",
    "doremi = cv2.imread(\"doremi.jpg\")\n",
    "doremon= cv2.imread(\"doremon.jpg\")"
   ]
  },
  {
   "cell_type": "code",
   "execution_count": 3,
   "metadata": {},
   "outputs": [],
   "source": [
    "# Crop the image : slicing\n",
    "\n",
    "cpic = doremi[ : , :400] "
   ]
  },
  {
   "cell_type": "code",
   "execution_count": 4,
   "metadata": {},
   "outputs": [],
   "source": [
    "cpica = doremon[ : , 400:]"
   ]
  },
  {
   "cell_type": "code",
   "execution_count": 5,
   "metadata": {},
   "outputs": [],
   "source": [
    "# Add an image in the window : display\n",
    "\n",
    "cv2.imshow(\"doremi\" , cpic)\n",
    "cv2.imshow(\"doremon\" , cpica)\n",
    "\n",
    "# wait for a specific time in milliseconds \n",
    "\n",
    "cv2.waitKey()\n",
    "\n",
    "# Destroys the window showing image\n",
    "\n",
    "cv2.destroyAllWindows() "
   ]
  },
  {
   "cell_type": "code",
   "execution_count": 6,
   "metadata": {},
   "outputs": [],
   "source": [
    "# we are going to take 4 images \n",
    "\n",
    "image1=cv2.imread(\"doremi.jpg\")\n",
    "image2=cv2.imread(\"doremon.jpg\")\n",
    "\n",
    "image3=cv2.imread(\"doremi.jpg\")\n",
    "image4=cv2.imread(\"doremon.jpg\")\n",
    "\n",
    "# To make all the images of same size : resize function\n",
    "\n",
    "image1=cv2.resize(cpic,(200,300))\n",
    "image2=cv2.resize(cpica,(200,300 ))\n",
    "image3=cv2.resize(image3,(200,300))\n",
    "image4=cv2.resize(image4,(200,300 ))\n",
    "\n",
    "# To attach images : create a horizontal stack : numpy stack function\n",
    "\n",
    "Horizontal1=np.hstack([image1,image2])\n",
    "Horizontal2=np.hstack([image3,image4])\n",
    "\n",
    "# To combine : create a vertical stack\n",
    "\n",
    "Vertical_attachment=np.vstack([Horizontal1,Horizontal2])\n",
    "\n",
    "# Show the final attachment\n",
    "cv2.imshow(\"Final_Collage\",Vertical_attachment)\n",
    "cv2.waitKey(0)\n",
    "cv2.destroyAllWindows()"
   ]
  },
  {
   "cell_type": "code",
   "execution_count": null,
   "metadata": {},
   "outputs": [],
   "source": []
  }
 ],
 "metadata": {
  "kernelspec": {
   "display_name": "Python 3",
   "language": "python",
   "name": "python3"
  },
  "language_info": {
   "codemirror_mode": {
    "name": "ipython",
    "version": 3
   },
   "file_extension": ".py",
   "mimetype": "text/x-python",
   "name": "python",
   "nbconvert_exporter": "python",
   "pygments_lexer": "ipython3",
   "version": "3.8.3"
  }
 },
 "nbformat": 4,
 "nbformat_minor": 4
}
